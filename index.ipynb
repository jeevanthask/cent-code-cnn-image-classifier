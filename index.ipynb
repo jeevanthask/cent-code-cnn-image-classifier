{
 "cells": [
  {
   "cell_type": "code",
   "execution_count": 50,
   "id": "5a9e9c36",
   "metadata": {},
   "outputs": [],
   "source": [
    "import tensorflow as tf\n",
    "from tensorflow.keras.models import Sequential\n",
    "from tensorflow.keras.layers import Dense,Dropout,Activation,Flatten,Conv2D,MaxPooling2D\n",
    "import pickle\n",
    "import numpy as np\n",
    "\n",
    "X = pickle.load(open(\"X.pickle\",\"rb\"))\n",
    "y = pickle.load(open(\"y.pickle\",\"rb\"))\n",
    "\n",
    "X = X/255.0\n",
    "\n",
    "model = Sequential()"
   ]
  },
  {
   "cell_type": "code",
   "execution_count": 51,
   "id": "9cfaa1e8",
   "metadata": {},
   "outputs": [],
   "source": [
    "model.add(Conv2D(64, (3, 3), input_shape=X.shape[1:]))\n",
    "model.add(Activation('relu'))\n",
    "model.add(MaxPooling2D(pool_size=(2, 2)))"
   ]
  },
  {
   "cell_type": "code",
   "execution_count": 52,
   "id": "5ff09c49",
   "metadata": {},
   "outputs": [],
   "source": [
    "model.add(Conv2D(64, (3, 3)))\n",
    "model.add(Activation('relu'))\n",
    "model.add(MaxPooling2D(pool_size=(2, 2)))"
   ]
  },
  {
   "cell_type": "code",
   "execution_count": 53,
   "id": "caa4a75f",
   "metadata": {},
   "outputs": [],
   "source": [
    "model.add(Flatten())  # this converts our 3D feature maps to 1D feature vectors\n",
    "\n",
    "model.add(Dense(64))"
   ]
  },
  {
   "cell_type": "code",
   "execution_count": 54,
   "id": "d8fc0ff3",
   "metadata": {},
   "outputs": [],
   "source": [
    "model.add(Dense(1))\n",
    "model.add(Activation('sigmoid'))"
   ]
  },
  {
   "cell_type": "code",
   "execution_count": 55,
   "id": "97061238",
   "metadata": {},
   "outputs": [],
   "source": [
    "model.compile(loss='binary_crossentropy',\n",
    "              optimizer='adam',\n",
    "              metrics=['accuracy'])"
   ]
  },
  {
   "cell_type": "code",
   "execution_count": 57,
   "id": "f0e5c572",
   "metadata": {},
   "outputs": [
    {
     "name": "stdout",
     "output_type": "stream",
     "text": [
      "Epoch 1/10\n",
      "702/702 [==============================] - 122s 174ms/step - loss: 0.5740 - accuracy: 0.7026 - val_loss: 0.5815 - val_accuracy: 0.6946\n",
      "Epoch 2/10\n",
      "702/702 [==============================] - 125s 177ms/step - loss: 0.5147 - accuracy: 0.7510 - val_loss: 0.5035 - val_accuracy: 0.75750.7 - ETA: 39s  - ETA: 2s - los\n",
      "Epoch 3/10\n",
      "702/702 [==============================] - 108s 154ms/step - loss: 0.4871 - accuracy: 0.7649 - val_loss: 0.4801 - val_accuracy: 0.7723\n",
      "Epoch 4/10\n",
      "702/702 [==============================] - 109s 155ms/step - loss: 0.4664 - accuracy: 0.7780 - val_loss: 0.4733 - val_accuracy: 0.7727\n",
      "Epoch 5/10\n",
      "702/702 [==============================] - 107s 152ms/step - loss: 0.4460 - accuracy: 0.7931 - val_loss: 0.4589 - val_accuracy: 0.7856\n",
      "Epoch 6/10\n",
      "702/702 [==============================] - 107s 153ms/step - loss: 0.4302 - accuracy: 0.8031 - val_loss: 0.4529 - val_accuracy: 0.7892\n",
      "Epoch 7/10\n",
      "702/702 [==============================] - 108s 153ms/step - loss: 0.4152 - accuracy: 0.8114 - val_loss: 0.4442 - val_accuracy: 0.7968\n",
      "Epoch 8/10\n",
      "702/702 [==============================] - 109s 155ms/step - loss: 0.4012 - accuracy: 0.8176 - val_loss: 0.4698 - val_accuracy: 0.7832\n",
      "Epoch 9/10\n",
      "702/702 [==============================] - 110s 157ms/step - loss: 0.3878 - accuracy: 0.8231 - val_loss: 0.4531 - val_accuracy: 0.7880\n",
      "Epoch 10/10\n",
      "702/702 [==============================] - 109s 155ms/step - loss: 0.3748 - accuracy: 0.8320 - val_loss: 0.4322 - val_accuracy: 0.7968\n"
     ]
    },
    {
     "data": {
      "text/plain": [
       "<tensorflow.python.keras.callbacks.History at 0x297531410d0>"
      ]
     },
     "execution_count": 57,
     "metadata": {},
     "output_type": "execute_result"
    }
   ],
   "source": [
    "X = np.array(X)\n",
    "# training_labels = np.array(training_labels)\n",
    "y = np.array(y)\n",
    "# testing_labels = np.array(testing_labels)\n",
    "model.fit(X, y, batch_size=32, epochs=10, validation_split=0.1)\n"
   ]
  },
  {
   "cell_type": "code",
   "execution_count": null,
   "id": "16bd966e",
   "metadata": {},
   "outputs": [],
   "source": [
    " "
   ]
  },
  {
   "cell_type": "code",
   "execution_count": null,
   "id": "73cdde73",
   "metadata": {},
   "outputs": [],
   "source": []
  }
 ],
 "metadata": {
  "kernelspec": {
   "display_name": "Python 3",
   "language": "python",
   "name": "python3"
  },
  "language_info": {
   "codemirror_mode": {
    "name": "ipython",
    "version": 3
   },
   "file_extension": ".py",
   "mimetype": "text/x-python",
   "name": "python",
   "nbconvert_exporter": "python",
   "pygments_lexer": "ipython3",
   "version": "3.8.11"
  }
 },
 "nbformat": 4,
 "nbformat_minor": 5
}
